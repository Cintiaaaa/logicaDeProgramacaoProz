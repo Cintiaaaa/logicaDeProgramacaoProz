{
  "nbformat": 4,
  "nbformat_minor": 0,
  "metadata": {
    "colab": {
      "provenance": [],
      "authorship_tag": "ABX9TyNy63RsATwAJL9TXbyzIy4Z",
      "include_colab_link": true
    },
    "kernelspec": {
      "name": "python3",
      "display_name": "Python 3"
    },
    "language_info": {
      "name": "python"
    }
  },
  "cells": [
    {
      "cell_type": "markdown",
      "metadata": {
        "id": "view-in-github",
        "colab_type": "text"
      },
      "source": [
        "<a href=\"https://colab.research.google.com/github/Cintiaaaa/logicaDeProgramacaoProz/blob/main/exercicioCadastro.ipynb\" target=\"_parent\"><img src=\"https://colab.research.google.com/assets/colab-badge.svg\" alt=\"Open In Colab\"/></a>"
      ]
    },
    {
      "cell_type": "code",
      "source": [
        "anoAtual = 2024\n",
        "\n",
        "def cadastro():\n",
        "  while True:\n",
        "    try:\n",
        "      nome = input(\"Por favor digite seu nome completo: \")\n",
        "      ano = int(input(\"Agora digite o ano de seu nascimento: \"))\n",
        "      if ano < 1922 or ano > 2021:\n",
        "        raise ValueError(\"Ano de nascimento inválido.\")\n",
        "      else:\n",
        "        idade = anoAtual - ano\n",
        "        print(f\"Olá, {nome}! Você completou/completará {idade} anos no ano de {anoAtual}\")\n",
        "        break\n",
        "    except ValueError as e:\n",
        "            print(\"Erro!\", e)\n",
        "\n",
        "cadastro()"
      ],
      "metadata": {
        "colab": {
          "base_uri": "https://localhost:8080/"
        },
        "id": "G-1tI7Y8AJNc",
        "outputId": "94d4cccc-d277-47d2-9f84-6d5d1f150412"
      },
      "execution_count": 10,
      "outputs": [
        {
          "output_type": "stream",
          "name": "stdout",
          "text": [
            "Por favor digite seu nome completo: Cintia de Azevedo Castro\n",
            "Agora digite o ano de seu nascimento: 1921\n",
            "Erro! Ano de nascimento inválido.\n",
            "Por favor digite seu nome completo: Cintia de Azevedo Castro\n",
            "Agora digite o ano de seu nascimento: 2022\n",
            "Erro! Ano de nascimento inválido.\n",
            "Por favor digite seu nome completo: Cintia de Azevedo Castro\n",
            "Agora digite o ano de seu nascimento: 1990\n",
            "Olá, Cintia de Azevedo Castro! Você completou/completará 34 anos no ano de 2024\n"
          ]
        }
      ]
    }
  ]
}