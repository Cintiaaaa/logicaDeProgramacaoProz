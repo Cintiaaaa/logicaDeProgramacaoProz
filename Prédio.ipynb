{
  "nbformat": 4,
  "nbformat_minor": 0,
  "metadata": {
    "colab": {
      "provenance": [],
      "authorship_tag": "ABX9TyNb/LxD5x+xn4K5CNQ/y9Ce",
      "include_colab_link": true
    },
    "kernelspec": {
      "name": "python3",
      "display_name": "Python 3"
    },
    "language_info": {
      "name": "python"
    }
  },
  "cells": [
    {
      "cell_type": "markdown",
      "metadata": {
        "id": "view-in-github",
        "colab_type": "text"
      },
      "source": [
        "<a href=\"https://colab.research.google.com/github/Cintiaaaa/logicaDeProgramacaoProz/blob/main/Pr%C3%A9dio.ipynb\" target=\"_parent\"><img src=\"https://colab.research.google.com/assets/colab-badge.svg\" alt=\"Open In Colab\"/></a>"
      ]
    },
    {
      "cell_type": "code",
      "execution_count": 1,
      "metadata": {
        "colab": {
          "base_uri": "https://localhost:8080/"
        },
        "id": "GwqbFwY1Yiap",
        "outputId": "4f47beba-951f-4222-d8ed-120f2c755191"
      },
      "outputs": [
        {
          "output_type": "stream",
          "name": "stdout",
          "text": [
            "Andar número 1\n",
            "Andar número 2\n",
            "Andar número 3\n",
            "Andar número 4\n",
            "Andar número 5\n",
            "Andar número 6\n",
            "Andar número 7\n",
            "Andar número 8\n",
            "Andar número 9\n",
            "Andar número 10\n",
            "Andar número 11\n",
            "Andar número 12\n",
            "Andar número 14\n",
            "Andar número 15\n",
            "Andar número 16\n",
            "Andar número 17\n",
            "Andar número 18\n",
            "Andar número 19\n",
            "Andar número 20\n"
          ]
        }
      ],
      "source": [
        "#Escreva um código que imprima todos os números exceto o número 13.\n",
        "for i in range(20):\n",
        "    if i + 1 == 13:\n",
        "      continue\n",
        "    print(f\"Andar número {i + 1}\")"
      ]
    },
    {
      "cell_type": "code",
      "source": [
        "#Escreva mais um código que resolva o mesmo problema, mas dessa vez usando o laço de repetição 'while'.\n",
        "i = 1\n",
        "while i < 21:\n",
        "  if i != 13:\n",
        "     print(f\"Andar número {i}\")\n",
        "  i = i + 1"
      ],
      "metadata": {
        "colab": {
          "base_uri": "https://localhost:8080/"
        },
        "id": "5QUadXf0Y6UO",
        "outputId": "0bc971f0-3d54-41a9-da78-95164b316325"
      },
      "execution_count": 2,
      "outputs": [
        {
          "output_type": "stream",
          "name": "stdout",
          "text": [
            "Andar número 1\n",
            "Andar número 2\n",
            "Andar número 3\n",
            "Andar número 4\n",
            "Andar número 5\n",
            "Andar número 6\n",
            "Andar número 7\n",
            "Andar número 8\n",
            "Andar número 9\n",
            "Andar número 10\n",
            "Andar número 11\n",
            "Andar número 12\n",
            "Andar número 14\n",
            "Andar número 15\n",
            "Andar número 16\n",
            "Andar número 17\n",
            "Andar número 18\n",
            "Andar número 19\n",
            "Andar número 20\n"
          ]
        }
      ]
    },
    {
      "cell_type": "code",
      "source": [
        "#Como desafio, imprima eles em ordem decrescente (20, 19, 18...)\n",
        "i = 20\n",
        "while i >= 1:\n",
        "  if i !=13:\n",
        "    print(f\"Andar número {i}\")\n",
        "  i = i - 1"
      ],
      "metadata": {
        "colab": {
          "base_uri": "https://localhost:8080/"
        },
        "id": "jfI5ow-rZMj1",
        "outputId": "f2bea8d9-9b8f-4dfe-a0af-65a26e902415"
      },
      "execution_count": 3,
      "outputs": [
        {
          "output_type": "stream",
          "name": "stdout",
          "text": [
            "Andar número 20\n",
            "Andar número 19\n",
            "Andar número 18\n",
            "Andar número 17\n",
            "Andar número 16\n",
            "Andar número 15\n",
            "Andar número 14\n",
            "Andar número 12\n",
            "Andar número 11\n",
            "Andar número 10\n",
            "Andar número 9\n",
            "Andar número 8\n",
            "Andar número 7\n",
            "Andar número 6\n",
            "Andar número 5\n",
            "Andar número 4\n",
            "Andar número 3\n",
            "Andar número 2\n",
            "Andar número 1\n"
          ]
        }
      ]
    }
  ]
}