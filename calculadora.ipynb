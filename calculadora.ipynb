{
  "nbformat": 4,
  "nbformat_minor": 0,
  "metadata": {
    "colab": {
      "provenance": [],
      "authorship_tag": "ABX9TyPHyInNAMIVZTTvxt8vKq67",
      "include_colab_link": true
    },
    "kernelspec": {
      "name": "python3",
      "display_name": "Python 3"
    },
    "language_info": {
      "name": "python"
    }
  },
  "cells": [
    {
      "cell_type": "markdown",
      "metadata": {
        "id": "view-in-github",
        "colab_type": "text"
      },
      "source": [
        "<a href=\"https://colab.research.google.com/github/Cintiaaaa/logicaDeProgramacaoProz/blob/main/calculadora.ipynb\" target=\"_parent\"><img src=\"https://colab.research.google.com/assets/colab-badge.svg\" alt=\"Open In Colab\"/></a>"
      ]
    },
    {
      "cell_type": "code",
      "execution_count": 7,
      "metadata": {
        "id": "ba8GI18NaLOV",
        "colab": {
          "base_uri": "https://localhost:8080/"
        },
        "outputId": "a8a48d9b-27ba-4ac3-f775-17043846d317"
      },
      "outputs": [
        {
          "output_type": "stream",
          "name": "stdout",
          "text": [
            "Por favor digite o primeiro número: 30\n",
            "Por favor digite o segundo número: 10\n",
            "Por favor digite o número da opção que corresponde a operação a ser realizada, sendo: 1 - Soma, 2 - Subtração, 3 - Multiplicação e 4 - Divisão: 0\n",
            "O resultado da operação é: 0\n"
          ]
        }
      ],
      "source": [
        "numero1 = float(input(\"Por favor digite o primeiro número: \"))\n",
        "numero2 = float(input(\"Por favor digite o segundo número: \"))\n",
        "operacao = int(input(\"Por favor digite o número da opção que corresponde a operação a ser realizada, sendo: 1 - Soma, 2 - Subtração, 3 - Multiplicação e 4 - Divisão: \"))\n",
        "\n",
        "def calculadora(numero1, numero2, operacao):\n",
        "\n",
        "  if(operacao == 1):\n",
        "   resultado = numero1 + numero2\n",
        "  elif(operacao == 2):\n",
        "   resultado = numero1 - numero2\n",
        "  elif(operacao == 3):\n",
        "   resultado = numero1 * numero2\n",
        "  elif(operacao == 4):\n",
        "    resultado = numero1 / numero2\n",
        "  else:\n",
        "    resultado = 0\n",
        "  return resultado\n",
        "\n",
        "print(\"O resultado da operação é:\", calculadora(numero1,numero2,operacao))"
      ]
    }
  ]
}