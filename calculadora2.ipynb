{
  "nbformat": 4,
  "nbformat_minor": 0,
  "metadata": {
    "colab": {
      "provenance": [],
      "authorship_tag": "ABX9TyMxnnzXiNeGxvng85BE9K18",
      "include_colab_link": true
    },
    "kernelspec": {
      "name": "python3",
      "display_name": "Python 3"
    },
    "language_info": {
      "name": "python"
    }
  },
  "cells": [
    {
      "cell_type": "markdown",
      "metadata": {
        "id": "view-in-github",
        "colab_type": "text"
      },
      "source": [
        "<a href=\"https://colab.research.google.com/github/Cintiaaaa/logicaDeProgramacaoProz/blob/main/calculadora2.ipynb\" target=\"_parent\"><img src=\"https://colab.research.google.com/assets/colab-badge.svg\" alt=\"Open In Colab\"/></a>"
      ]
    },
    {
      "cell_type": "code",
      "execution_count": 26,
      "metadata": {
        "colab": {
          "base_uri": "https://localhost:8080/"
        },
        "id": "fmuM9c91_KoK",
        "outputId": "da34e041-716e-4ed4-b817-f0398ccfe1f7"
      },
      "outputs": [
        {
          "name": "stdout",
          "output_type": "stream",
          "text": [
            "Por favor digite o número da opção que corresponde a operação a ser realizada, sendo: 1 - Soma, 2 - Subtração, 3 - Multiplicação, 4 - Divisão ou 0 - Sair: 2\n",
            "Por favor digite o primeiro número: 100\n",
            "Por favor digite o segundo número: 10\n",
            "O resultado da operação é:90.0\n",
            "Por favor digite o número da opção que corresponde a operação a ser realizada, sendo: 1 - Soma, 2 - Subtração, 3 - Multiplicação, 4 - Divisão ou 0 - Sair: 3\n",
            "Por favor digite o primeiro número: 100\n",
            "Por favor digite o segundo número: 10\n",
            "O resultado da operação é:1000.0\n",
            "Por favor digite o número da opção que corresponde a operação a ser realizada, sendo: 1 - Soma, 2 - Subtração, 3 - Multiplicação, 4 - Divisão ou 0 - Sair: 4\n",
            "Por favor digite o primeiro número: 100\n",
            "Por favor digite o segundo número: 10\n",
            "O resultado da operação é:10.0\n",
            "Por favor digite o número da opção que corresponde a operação a ser realizada, sendo: 1 - Soma, 2 - Subtração, 3 - Multiplicação, 4 - Divisão ou 0 - Sair: 10\n",
            "Essa opção não existe!\n",
            "Por favor digite o número da opção que corresponde a operação a ser realizada, sendo: 1 - Soma, 2 - Subtração, 3 - Multiplicação, 4 - Divisão ou 0 - Sair: 0\n"
          ]
        }
      ],
      "source": [
        "def calculadora(numero1, numero2, operacao):\n",
        "\n",
        "     if operacao == 1:\n",
        "      return numero1 + numero2\n",
        "     elif operacao == 2:\n",
        "      return numero1 - numero2\n",
        "     elif operacao == 3:\n",
        "      return numero1 * numero2\n",
        "     elif operacao == 4:\n",
        "      return numero1 / numero2\n",
        "\n",
        "\n",
        "while True:\n",
        "    operacao = int(input(\"Por favor digite o número da opção que corresponde a operação a ser realizada, sendo: 1 - Soma, 2 - Subtração, 3 - Multiplicação, 4 - Divisão ou 0 - Sair: \"))\n",
        "    if operacao > 4 or operacao < 0:\n",
        "       print(\"Essa opção não existe!\")\n",
        "       continue\n",
        "    elif operacao == 0:\n",
        "        break\n",
        "\n",
        "    numero1 = float(input(\"Por favor digite o primeiro número: \"))\n",
        "    numero2 = float(input(\"Por favor digite o segundo número: \"))\n",
        "\n",
        "    resultado = calculadora(numero1, numero2, operacao)\n",
        "    print(\"O resultado da operação é:\" + str(resultado))\n",
        "\n"
      ]
    }
  ]
}